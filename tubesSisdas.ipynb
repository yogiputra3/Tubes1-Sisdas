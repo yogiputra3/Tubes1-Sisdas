{
 "metadata": {
  "language_info": {
   "codemirror_mode": {
    "name": "ipython",
    "version": 3
   },
   "file_extension": ".py",
   "mimetype": "text/x-python",
   "name": "python",
   "nbconvert_exporter": "python",
   "pygments_lexer": "ipython3",
   "version": 3
  },
  "orig_nbformat": 2
 },
 "nbformat": 4,
 "nbformat_minor": 2,
 "cells": [
  {
   "cell_type": "code",
   "execution_count": null,
   "metadata": {},
   "outputs": [],
   "source": [
    "import pandas as pd \n",
    "import numpy as np \n",
    "import random "
   ]
  },
  {
   "cell_type": "code",
   "execution_count": null,
   "metadata": {},
   "outputs": [],
   "source": [
    "dataset = pd.read_csv(\"BMRI.JK.csv\")\n",
    "dataset = dataset[['Date', 'Close']]\n",
    "dataset['y1'] = dataset.shift(periods=1)['Close']\n",
    "for i in range(10) : \n",
    "    dataset[f'y{i+1}'] = dataset.shift(periods=i+1)['Close']\n",
    "data = dataset[-200:-100]\n",
    "data"
   ]
  }
 ]
}